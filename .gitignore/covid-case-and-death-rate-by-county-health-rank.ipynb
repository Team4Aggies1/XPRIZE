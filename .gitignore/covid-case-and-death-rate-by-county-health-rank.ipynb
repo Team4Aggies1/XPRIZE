{
 "cells": [
  {
   "cell_type": "code",
   "execution_count": null,
   "metadata": {},
   "outputs": [],
   "source": [
    "# You might want to install some useful Python packages to get started\n",
    "# For example, here are several helpful packages to install \n",
    "\n",
    "from IPython.core.interactiveshell import InteractiveShell\n",
    "\n",
    "# pretty print all cell's output and not just the last one\n",
    "InteractiveShell.ast_node_interactivity = \"all\"\n",
    "\n",
    "# From a terminal run `pip install numpy` than uncomment the next line\n",
    "import numpy as np  # linear algebra\n",
    "\n",
    "import time\n",
    "\n",
    "import seaborn as sns\n",
    "\n",
    "import matplotlib.pyplot as plt\n",
    "\n",
    "# From a terminal run `pip install pandas` than uncomment the next line\n",
    "import pandas as pd # data processing, CSV file I/O (e.g. pd.read_csv)\n",
    "\n",
    "# Input data files are available in the \"/xprize\" directory.\n",
    "# For example, running this snippet (by clicking run or pressing Shift+Enter)\n",
    "# will list all files under the input directory\n",
    "\n",
    "allData = {}\n",
    "\n",
    "paths = ['us-covid-data', 'us-county-health-rankings', 'us-mental-health-rankings', 'covid-deaths-us', 'mobility', 'lock-down']\n",
    "\n",
    "for path in paths:\n",
    "\n",
    "#     import os\n",
    "#     for dirname, _, filenames in os.walk('./xprize/adrianwilliams/' + path):\n",
    "#         for filename in filenames:\n",
    "#             if '.ipynb' not in dirname:            \n",
    "#                 print(os.path.join(dirname, filename))\n",
    "\n",
    "    import glob\n",
    "\n",
    "    allFiles = glob.glob('./xprize/adrianwilliams/' + path + '/*.csv')\n",
    "\n",
    "    allData[path] = {}\n",
    "    \n",
    "    allData[path +'_keys'] = []\n",
    "\n",
    "    for iFile in range(len(allFiles)):\n",
    "\n",
    "        fileKey = allFiles[iFile].split('/')[-1].replace(' ','_')[:-4]\n",
    "\n",
    "        file = allFiles[iFile]\n",
    "        cols = !head -n 1 $file\n",
    "\n",
    "        allData[path][fileKey] = pd.read_csv(allFiles[iFile], sep=',', header=0)#, names=cols[0].split(','))\n",
    "\n",
    "        allData[path +'_keys'].append(fileKey)\n",
    "\n",
    "#         print(allData[path][fileKey])           "
   ]
  },
  {
   "cell_type": "code",
   "execution_count": null,
   "metadata": {},
   "outputs": [],
   "source": [
    "#get state name to state code mapper\n",
    "statePostalCodeMapper = pd.read_csv('./xprize/adrianwilliams/state_codes.csv')\n",
    "\n",
    "# statePostalCodeMapper"
   ]
  },
  {
   "cell_type": "code",
   "execution_count": null,
   "metadata": {},
   "outputs": [],
   "source": [
    "#get covid case and death rate (aggregate daily values over full 2 week time range) 3/4/2020 - 3/18/2020 \n",
    "# allData['us-covid-data'][allData['us-covid-data_keys'][0]]['date'].unique()\n",
    "# ourUsCovidData = allData['us-covid-data'][allData['us-covid-data_keys'][0]].groupby('state').agg('sum')[['positive','negative','pending','death','total']]\n",
    "# ourUsCovidData"
   ]
  },
  {
   "cell_type": "code",
   "execution_count": null,
   "metadata": {},
   "outputs": [],
   "source": [
    "rawTable = allData['us-county-health-rankings'][allData['us-county-health-rankings_keys'][0]][['state', 'county', 'average_number_of_physically_unhealthy_days', 'average_number_of_mentally_unhealthy_days']].copy()\n",
    "\n",
    "rawTable['unhealthy_days'] = rawTable['average_number_of_physically_unhealthy_days'] + rawTable['average_number_of_mentally_unhealthy_days']\n",
    "\n",
    "ourUsHealthData = rawTable.groupby(['state']).agg('mean').sort_values('unhealthy_days', ascending=False)[['average_number_of_physically_unhealthy_days', 'average_number_of_mentally_unhealthy_days']]\n",
    "\n",
    "fig = plt.figure(figsize=(12,8))\n",
    "ax = fig.add_subplot(1, 1, 1)\n",
    "ourUsHealthData.plot.bar(stacked=True, ax=ax)\n",
    "ax.set_title(\"pre-COVID health indicators by state (2019)\")\n",
    "print(ax)\n",
    "plt.gcf().subplots_adjust(bottom=0.15)\n",
    "plt.tight_layout()\n",
    "fig.savefig('pre-COVID health indicators by state (2019).png')\n",
    "\n",
    "del ourUsHealthData"
   ]
  },
  {
   "cell_type": "code",
   "execution_count": null,
   "metadata": {},
   "outputs": [],
   "source": [
    "rawTable = allData['us-county-health-rankings'][allData['us-county-health-rankings_keys'][0]][['state', 'county', 'average_number_of_physically_unhealthy_days', 'average_number_of_mentally_unhealthy_days']].copy()\n",
    "\n",
    "ourUsHealthData = rawTable.groupby(['state'], as_index=False).agg('mean')\n",
    "\n",
    "ourUsHealthData['average_number_of_unhealthy_days'] = ourUsHealthData['average_number_of_physically_unhealthy_days'] + ourUsHealthData['average_number_of_mentally_unhealthy_days']\n",
    "ourUsHealthData.columns"
   ]
  },
  {
   "cell_type": "code",
   "execution_count": null,
   "metadata": {},
   "outputs": [],
   "source": [
    "#get poplulation data by state\n",
    "\n",
    "#get data from us health rankings (values seem low, are these adults only?)\n",
    "# popData = allData['us-county-health-rankings'][allData['us-county-health-rankings_keys'][0]][['state', 'county', 'population']]\n",
    "# ourAdultPopulationData = popData[popData['county'].isnull()].groupby('state').agg('sum')\n",
    "# ourAdultPopulationData\n",
    "\n",
    "#estimated state populations by census projections\n",
    "ourTotalPopulationData = pd.read_csv('./xprize/adrianwilliams/total_population.csv', names=['state', 'population'])\n",
    "ourTotalPopulationData['state'] = ourTotalPopulationData['state'].str.lstrip()"
   ]
  },
  {
   "cell_type": "code",
   "execution_count": null,
   "metadata": {},
   "outputs": [],
   "source": [
    "#get mental health ranking data\n",
    "\n",
    "our_measures = ['All Determinants', 'All Outcomes', 'Frequent Mental Distress', 'Frequent Physical Distress', 'Depression', 'Violent Crime', 'Uninsured', 'Suicide', 'Seat Belt Use', 'Premature Death', 'Physical inactivity']\n",
    "\n",
    "#choosing mulitple indicators here will cause duplicates in final totalTable join\n",
    "\n",
    "# our_measures = ['All Outcomes']\n",
    "allMentalHealthRankings = allData['us-mental-health-rankings'][allData['us-mental-health-rankings_keys'][0]]\n",
    "ourMentalHealthRankings = allMentalHealthRankings[allMentalHealthRankings['Measure Name'].isin(our_measures)][['Measure Name', 'State Name', 'Rank', 'Source Year']]\n",
    "ourMentalHealthRankings = ourMentalHealthRankings.rename(columns={'State Name' : 'state'})"
   ]
  },
  {
   "cell_type": "code",
   "execution_count": null,
   "metadata": {},
   "outputs": [],
   "source": [
    "ourMentalHealthRankings.columns"
   ]
  },
  {
   "cell_type": "code",
   "execution_count": null,
   "metadata": {},
   "outputs": [],
   "source": [
    "#get us covid death data by state\n",
    "\n",
    "deaths = allData['covid-deaths-us'][allData['covid-deaths-us_keys'][0]]\n",
    "deaths['Total']= deaths.iloc[:, -166:-1].sum(axis=1)\n",
    "deaths['State'] = deaths['State'].replace(list(statePostalCodeMapper['code']), list(statePostalCodeMapper['state']))\n",
    "ourCovidDeathData = deaths[['County Name', 'State', 'Total']].groupby('State', as_index=False).agg('sum')\n",
    "ourCovidDeathData = ourCovidDeathData.rename(columns={'State' : 'state'})\n",
    "ourCovidDeathData.columns"
   ]
  },
  {
   "cell_type": "code",
   "execution_count": null,
   "metadata": {},
   "outputs": [],
   "source": [
    "# get US mobility data\n",
    "globalMobility = allData['mobility'][allData['mobility_keys'][0]]\n",
    "usMobility = globalMobility[globalMobility['country_region']=='United States']\n",
    "usMobility = usMobility[usMobility['sub_region_1'].notnull()]\n",
    "usMobility = usMobility[usMobility['sub_region_2'].notnull()].groupby(['sub_region_1', 'sub_region_2'],as_index=False).agg('mean').groupby('sub_region_1',as_index=False).agg('mean')\n",
    "usMobility = usMobility.rename(columns={'sub_region_1' : 'state'})\n",
    "usMobility.columns"
   ]
  },
  {
   "cell_type": "code",
   "execution_count": null,
   "metadata": {},
   "outputs": [],
   "source": [
    "# # get US lock-down data\n",
    "# lockDownData = allData['lock-down'][allData['lock-down_keys'][0]].copy()\n",
    "# lockDownData = lockDownData.replace(['Stay at home'],1)\n",
    "# lockDownData = lockDownData.replace(['Shelter in place'],2)\n",
    "# lockDownData = lockDownData.replace(['Curfew'],3).groupby('State').agg('mean')\n",
    "# lockDownData"
   ]
  },
  {
   "cell_type": "code",
   "execution_count": null,
   "metadata": {},
   "outputs": [],
   "source": [
    "#join ALL tables by state (ourCovidDeathData, ourUsHealthData, ourTotalPopulationData, ourMentalHealthRankings, usMobility)\n",
    "totalTable = ourCovidDeathData.merge(ourTotalPopulationData, on='state',how='inner')\n",
    "#estimate death rate per-capita\n",
    "totalTable = totalTable.rename(columns={'Total' : 'total_covid_deaths'})\n",
    "totalTable['covid_death_rate'] = totalTable['total_covid_deaths']/totalTable['population']\n",
    "\n",
    "totalTable = totalTable.merge(ourUsHealthData, on='state',how='inner').merge(usMobility, on='state',how='inner').merge(ourMentalHealthRankings, on='state',how='inner')\n",
    "totalTable.columns\n"
   ]
  },
  {
   "cell_type": "code",
   "execution_count": null,
   "metadata": {},
   "outputs": [],
   "source": [
    "fig = plt.figure()\n",
    "ax1 = fig.add_subplot(1, 1, 1)\n",
    "\n",
    "totalTable.plot(kind='scatter', x='covid_death_rate', y='retail_and_recreation_percent_change_from_baseline', color='r', ax=ax1)    \n",
    "x=totalTable.covid_death_rate\n",
    "y=totalTable.retail_and_recreation_percent_change_from_baseline\n",
    "m, b = np.polyfit(x, y, 1)\n",
    "# A,B,C = np.polyfit(x, y, 2)\n",
    "ax1.plot(x, m*x + b)\n",
    "# ax1.plot(x, A*x**2 + B*x + C)\n",
    "ax1.set_title('change in retail/recreation vs COVID death rate per state')\n",
    "print(ax1)\n",
    "fig.savefig('change in retail-recreation vs COVID death rate per state.png')"
   ]
  },
  {
   "cell_type": "code",
   "execution_count": null,
   "metadata": {},
   "outputs": [],
   "source": [
    "fig = plt.figure()\n",
    "ax1 = fig.add_subplot(1, 1, 1)\n",
    "\n",
    "totalTable.plot(kind='scatter', x='covid_death_rate', y='grocery_and_pharmacy_percent_change_from_baseline', color='r', ax=ax1)    \n",
    "x=totalTable.covid_death_rate\n",
    "y=totalTable.grocery_and_pharmacy_percent_change_from_baseline\n",
    "m, b = np.polyfit(x, y, 1)\n",
    "# A,B,C = np.polyfit(x, y, 2)\n",
    "ax1.plot(x, m*x + b)\n",
    "# ax1.plot(x, A*x**2 + B*x + C)\n",
    "ax1.set_title('change in grocery/pharmacy vs COVID death rate per state')\n",
    "print(ax1)\n",
    "fig.savefig('change in grocery-pharmacy vs COVID death rate per state.png')"
   ]
  },
  {
   "cell_type": "code",
   "execution_count": null,
   "metadata": {},
   "outputs": [],
   "source": [
    "fig = plt.figure()\n",
    "ax1 = fig.add_subplot(1, 1, 1)\n",
    "\n",
    "totalTable.plot(kind='scatter', x='covid_death_rate', y='parks_percent_change_from_baseline', color='r', ax=ax1)    \n",
    "x=totalTable.covid_death_rate\n",
    "y=totalTable.parks_percent_change_from_baseline\n",
    "m, b = np.polyfit(x, y, 1)\n",
    "# A,B,C = np.polyfit(x, y, 2)\n",
    "ax1.plot(x, m*x + b)\n",
    "# ax1.plot(x, A*x**2 + B*x + C)\n",
    "ax1.set_title('change in parks vs COVID death rate per state')\n",
    "print(ax1)\n",
    "fig.savefig('change in parks vs COVID death rate per state.png')"
   ]
  },
  {
   "cell_type": "code",
   "execution_count": null,
   "metadata": {},
   "outputs": [],
   "source": [
    "fig = plt.figure()\n",
    "ax1 = fig.add_subplot(1, 1, 1)\n",
    "\n",
    "totalTable.plot(kind='scatter', x='covid_death_rate', y='transit_stations_percent_change_from_baseline', color='r', ax=ax1)    \n",
    "x=totalTable.covid_death_rate\n",
    "y=totalTable.transit_stations_percent_change_from_baseline\n",
    "m, b = np.polyfit(x, y, 1)\n",
    "# A,B,C = np.polyfit(x, y, 2)\n",
    "ax1.plot(x, m*x + b)\n",
    "# ax1.plot(x, A*x**2 + B*x + C)\n",
    "ax1.set_title('change in transit vs COVID death rate per state')\n",
    "print(ax1)\n",
    "fig.savefig('change in transit vs COVID death rate per state.png')"
   ]
  },
  {
   "cell_type": "code",
   "execution_count": null,
   "metadata": {},
   "outputs": [],
   "source": [
    "fig = plt.figure()\n",
    "ax1 = fig.add_subplot(1, 1, 1)\n",
    "\n",
    "totalTable.plot(kind='scatter', x='covid_death_rate', y='workplaces_percent_change_from_baseline', color='r', ax=ax1)    \n",
    "x=totalTable.covid_death_rate\n",
    "y=totalTable.workplaces_percent_change_from_baseline\n",
    "m, b = np.polyfit(x, y, 1)\n",
    "# A,B,C = np.polyfit(x, y, 2)\n",
    "ax1.plot(x, m*x + b)\n",
    "# ax1.plot(x, A*x**2 + B*x + C)\n",
    "ax1.set_title('change in workplace commute vs COVID death rate per state')\n",
    "print(ax1)\n",
    "fig.savefig('change in workplace commute vs COVID death rate per state.png')"
   ]
  },
  {
   "cell_type": "code",
   "execution_count": null,
   "metadata": {},
   "outputs": [],
   "source": [
    "fig = plt.figure()\n",
    "ax1 = fig.add_subplot(1, 1, 1)\n",
    "\n",
    "totalTable.plot(kind='scatter', x='covid_death_rate', y='residential_percent_change_from_baseline', color='r', ax=ax1)    \n",
    "x=totalTable.covid_death_rate\n",
    "y=totalTable.residential_percent_change_from_baseline\n",
    "m, b = np.polyfit(x, y, 1)\n",
    "# A,B,C = np.polyfit(x, y, 2)\n",
    "ax1.plot(x, m*x + b)\n",
    "# ax1.plot(x, A*x**2 + B*x + C)\n",
    "ax1.set_title('change in staying home vs COVID death rate per state')\n",
    "print(ax1)\n",
    "fig.savefig('change in staying home vs COVID death rate per state.png')"
   ]
  },
  {
   "cell_type": "code",
   "execution_count": null,
   "metadata": {},
   "outputs": [],
   "source": [
    "#take aways - The data suggest that as covid death rates rose, \n",
    "#people stayed home compared to going to work, transit or general recreation \n",
    "#however we have found that more people are going to parks and grocery/pharamcy shopping stays about the same until death rate exceed 3-5%\n",
    "#(this makes sense since it is outdoors and people can still distance)"
   ]
  },
  {
   "cell_type": "code",
   "execution_count": null,
   "metadata": {},
   "outputs": [],
   "source": [
    "totalTable.columns"
   ]
  },
  {
   "cell_type": "code",
   "execution_count": null,
   "metadata": {},
   "outputs": [],
   "source": [
    "our_measures"
   ]
  },
  {
   "cell_type": "code",
   "execution_count": null,
   "metadata": {},
   "outputs": [],
   "source": [
    "tempTable = totalTable[totalTable['Measure Name']=='All Determinants']\n",
    "\n",
    "fig = plt.figure()\n",
    "ax1 = fig.add_subplot(1, 1, 1)\n",
    "\n",
    "tempTable.plot(kind='scatter', x='Rank', y='covid_death_rate', color='r', ax=ax1)    \n",
    "x=tempTable.Rank\n",
    "y=tempTable.covid_death_rate\n",
    "m, b = np.polyfit(x, y, 1)\n",
    "# A,B,C = np.polyfit(x, y, 2)\n",
    "ax1.plot(x, m*x + b)\n",
    "# ax1.plot(x, A*x**2 + B*x + C)\n",
    "ax1.set_title('COVID death rate vs All Determinants Healthcare Ranking')\n",
    "print(ax1)\n",
    "fig.savefig('COVID death rate vs All Determinants Healthcare Ranking.png')"
   ]
  },
  {
   "cell_type": "code",
   "execution_count": null,
   "metadata": {},
   "outputs": [],
   "source": [
    "tempTable = totalTable[totalTable['Measure Name']=='All Outcomes']\n",
    "\n",
    "fig = plt.figure()\n",
    "ax1 = fig.add_subplot(1, 1, 1)\n",
    "\n",
    "tempTable.plot(kind='scatter', x='Rank', y='covid_death_rate', color='r', ax=ax1)    \n",
    "x=tempTable.Rank\n",
    "y=tempTable.covid_death_rate\n",
    "m, b = np.polyfit(x, y, 1)\n",
    "# A,B,C = np.polyfit(x, y, 2)\n",
    "ax1.plot(x, m*x + b)\n",
    "# ax1.plot(x, A*x**2 + B*x + C)\n",
    "ax1.set_title('COVID death rate vs All Outcomes Healthcare Ranking')\n",
    "print(ax1)\n",
    "fig.savefig('COVID death rate vs All Outcomes Healthcare Ranking.png')"
   ]
  },
  {
   "cell_type": "code",
   "execution_count": null,
   "metadata": {},
   "outputs": [],
   "source": [
    "tempTable = totalTable[totalTable['Measure Name']=='Seat Belt Use']\n",
    "\n",
    "fig = plt.figure()\n",
    "ax1 = fig.add_subplot(1, 1, 1)\n",
    "\n",
    "tempTable.plot(kind='scatter', x='Rank', y='covid_death_rate', color='r', ax=ax1)    \n",
    "x=tempTable.Rank\n",
    "y=tempTable.covid_death_rate\n",
    "m, b = np.polyfit(x, y, 1)\n",
    "# A,B,C = np.polyfit(x, y, 2)\n",
    "ax1.plot(x, m*x + b)\n",
    "# ax1.plot(x, A*x**2 + B*x + C)\n",
    "ax1.set_title('COVID death rate vs Seat Belt Use Ranking')\n",
    "print(ax1)\n",
    "fig.savefig('COVID death rate vs Seat Belt Use Ranking.png')"
   ]
  },
  {
   "cell_type": "code",
   "execution_count": null,
   "metadata": {},
   "outputs": [],
   "source": [
    "#duplicate values account for muliple rankings (multi-schema table)\n",
    "totalTable"
   ]
  }
 ],
 "metadata": {
  "kernelspec": {
   "display_name": "Python 3",
   "language": "python",
   "name": "python3"
  },
  "language_info": {
   "codemirror_mode": {
    "name": "ipython",
    "version": 3
   },
   "file_extension": ".py",
   "mimetype": "text/x-python",
   "name": "python",
   "nbconvert_exporter": "python",
   "pygments_lexer": "ipython3",
   "version": "3.7.4"
  }
 },
 "nbformat": 4,
 "nbformat_minor": 2
}
